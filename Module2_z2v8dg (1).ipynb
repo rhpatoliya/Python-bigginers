{
 "cells": [
  {
   "cell_type": "code",
   "execution_count": 67,
   "metadata": {},
   "outputs": [
    {
     "name": "stdout",
     "output_type": "stream",
     "text": [
      "Hello World\n"
     ]
    }
   ],
   "source": [
    "# Prints a Statement\n",
    "\n",
    "'''\n",
    "These are bulk comments \n",
    "'''\n",
    "\n",
    "print(\"Hello World\")"
   ]
  },
  {
   "cell_type": "code",
   "execution_count": 1,
   "metadata": {},
   "outputs": [
    {
     "name": "stdout",
     "output_type": "stream",
     "text": [
      "Welcome to the world of Python\n"
     ]
    }
   ],
   "source": [
    "# Comments\n",
    "'''\n",
    "multiple comments\n",
    "line2 \n",
    "line 3\n",
    "line 4\n",
    "'''\n",
    "print(\"Welcome to the world of Python\")"
   ]
  },
  {
   "cell_type": "code",
   "execution_count": 2,
   "metadata": {},
   "outputs": [
    {
     "data": {
      "text/plain": [
       "24"
      ]
     },
     "execution_count": 2,
     "metadata": {},
     "output_type": "execute_result"
    }
   ],
   "source": [
    "24"
   ]
  },
  {
   "cell_type": "code",
   "execution_count": 1,
   "metadata": {},
   "outputs": [
    {
     "data": {
      "text/plain": [
       "4.0"
      ]
     },
     "execution_count": 1,
     "metadata": {},
     "output_type": "execute_result"
    }
   ],
   "source": [
    "# Creating Identifiers\n",
    "A = 16\n",
    "B = 17\n",
    "C = \"Edureka\"\n",
    "D = \" has the Edge\"\n",
    "A\n",
    "C + D\n",
    "17 // 4.0"
   ]
  },
  {
   "cell_type": "code",
   "execution_count": 37,
   "metadata": {},
   "outputs": [
    {
     "name": "stdout",
     "output_type": "stream",
     "text": [
      "128\n",
      "7.5\n"
     ]
    },
    {
     "data": {
      "text/plain": [
       "7.5"
      ]
     },
     "execution_count": 37,
     "metadata": {},
     "output_type": "execute_result"
    }
   ],
   "source": [
    "print(2 ** 7)\n",
    "print(3 * 3.75 /1.5)\n",
    "3 * 3.75 /1.5"
   ]
  },
  {
   "cell_type": "code",
   "execution_count": 35,
   "metadata": {},
   "outputs": [
    {
     "name": "stdout",
     "output_type": "stream",
     "text": [
      "<type 'float'>\n",
      "<type 'float'>\n"
     ]
    },
    {
     "data": {
      "text/plain": [
       "12.5625"
      ]
     },
     "execution_count": 35,
     "metadata": {},
     "output_type": "execute_result"
    }
   ],
   "source": [
    "'''\n",
    "In interactive mode, the last printed expression is assigned to the variable _. \n",
    "This means that when you are using Python as a desk calculator, it is somewhat easier to continue calculations, for example:\n",
    "'''\n",
    "tax = 12.5 / 100\n",
    "print(type(tax))\n",
    "price = 100.50\n",
    "print(type(price))\n",
    "price * tax\n"
   ]
  },
  {
   "cell_type": "code",
   "execution_count": 38,
   "metadata": {},
   "outputs": [
    {
     "name": "stdout",
     "output_type": "stream",
     "text": [
      "7.5\n"
     ]
    },
    {
     "data": {
      "text/plain": [
       "7.5"
      ]
     },
     "execution_count": 38,
     "metadata": {},
     "output_type": "execute_result"
    }
   ],
   "source": [
    "print(_)\n",
    "price + _\n",
    "round(_, 2)"
   ]
  },
  {
   "cell_type": "code",
   "execution_count": 20,
   "metadata": {},
   "outputs": [
    {
     "data": {
      "text/plain": [
       "314.1"
      ]
     },
     "execution_count": 20,
     "metadata": {},
     "output_type": "execute_result"
    }
   ],
   "source": [
    "round(_, 1)"
   ]
  },
  {
   "cell_type": "code",
   "execution_count": 40,
   "metadata": {},
   "outputs": [
    {
     "ename": "TypeError",
     "evalue": "'int' object is not iterable",
     "output_type": "error",
     "traceback": [
      "\u001b[0;31m\u001b[0m",
      "\u001b[0;31mTypeError\u001b[0mTraceback (most recent call last)",
      "\u001b[0;32m<ipython-input-40-36d80ba98d06>\u001b[0m in \u001b[0;36m<module>\u001b[0;34m()\u001b[0m\n\u001b[0;32m----> 1\u001b[0;31m \u001b[0mat\u001b[0m \u001b[0;34m=\u001b[0m \u001b[0mtuple\u001b[0m\u001b[0;34m(\u001b[0m\u001b[0;36m89\u001b[0m\u001b[0;34m)\u001b[0m\u001b[0;34m\u001b[0m\u001b[0m\n\u001b[0m\u001b[1;32m      2\u001b[0m \u001b[0;32mprint\u001b[0m\u001b[0;34m(\u001b[0m\u001b[0mat\u001b[0m\u001b[0;34m)\u001b[0m\u001b[0;34m\u001b[0m\u001b[0m\n",
      "\u001b[0;31mTypeError\u001b[0m: 'int' object is not iterable"
     ]
    }
   ],
   "source": [
    "at = tuple(89,90)\n",
    "print(at)"
   ]
  },
  {
   "cell_type": "code",
   "execution_count": 7,
   "metadata": {},
   "outputs": [
    {
     "name": "stdout",
     "output_type": "stream",
     "text": [
      "989\n",
      "898\n"
     ]
    }
   ],
   "source": [
    "# Various Variable Names\n",
    "abc123 = 989\n",
    "print(abc123)\n",
    "_123abc = 898\n",
    "print(_123abc)"
   ]
  },
  {
   "cell_type": "code",
   "execution_count": 3,
   "metadata": {},
   "outputs": [
    {
     "name": "stdout",
     "output_type": "stream",
     "text": [
      "william shakespeare\n",
      "william shakespeare\n"
     ]
    }
   ],
   "source": [
    "_william = 'William Shakespeare'\n",
    "caseLowerCaseName = 'william shakespeare'\n",
    "print(caseLowerCaseName)\n",
    "case_lower_case = 'william shakespeare'\n",
    "print(case_lower_case)"
   ]
  },
  {
   "cell_type": "code",
   "execution_count": 10,
   "metadata": {},
   "outputs": [
    {
     "name": "stdout",
     "output_type": "stream",
     "text": [
      "<type 'long'>\n"
     ]
    }
   ],
   "source": [
    "# Four Numeric types  - plain integers, long integers, floating point numbers, and complex numbers\n",
    "'''\n",
    "Plain integers (also just called integers) are implemented using long in C, which gives them at least 32 bits of precision. \n",
    "Long integers have unlimited precision. \n",
    "Floating point numbers are usually implemented using double in C; \n",
    "information about the precision and internal representation of floating point numbers for the machine on which your program \n",
    "is running is available in sys.float_info. \n",
    "Complex numbers have a real and imaginary part, which are each a floating point number.\n",
    "'''\n",
    "a = 67\n",
    "b = 56.5\n",
    "c = 657.76897\n",
    "d = 5 + 3j\n",
    "ef = 123456789192943489573489783458348738478374927984789379487893749874398798718937498327984739875983759875897398573987458972894\n",
    "print(type(ef))"
   ]
  },
  {
   "cell_type": "code",
   "execution_count": 12,
   "metadata": {},
   "outputs": [
    {
     "data": {
      "text/plain": [
       "sys.float_info(max=1.7976931348623157e+308, max_exp=1024, max_10_exp=308, min=2.2250738585072014e-308, min_exp=-1021, min_10_exp=-307, dig=15, mant_dig=53, epsilon=2.220446049250313e-16, radix=2, rounds=1)"
      ]
     },
     "execution_count": 12,
     "metadata": {},
     "output_type": "execute_result"
    }
   ],
   "source": [
    "# Integer MaxValue\n",
    "sys.maxint\n",
    "sys.float_info"
   ]
  },
  {
   "cell_type": "code",
   "execution_count": 28,
   "metadata": {},
   "outputs": [
    {
     "data": {
      "text/plain": [
       "-9223372036854775808"
      ]
     },
     "execution_count": 28,
     "metadata": {},
     "output_type": "execute_result"
    }
   ],
   "source": [
    "# intege MinValue\n",
    "-sys.maxint - 1"
   ]
  },
  {
   "cell_type": "code",
   "execution_count": 13,
   "metadata": {},
   "outputs": [
    {
     "name": "stdout",
     "output_type": "stream",
     "text": [
      "5.56\n",
      "9.67\n"
     ]
    }
   ],
   "source": [
    "# Complex numbers have a real and imaginary part, which are each a floating point number.\n",
    "z = 5.56 + 9.67j\n",
    "print(z.real)\n",
    "print(z.imag)"
   ]
  },
  {
   "cell_type": "code",
   "execution_count": 20,
   "metadata": {},
   "outputs": [
    {
     "name": "stdout",
     "output_type": "stream",
     "text": [
      "a is of \n",
      "<type 'int'>\n",
      "z is of \n",
      "<type 'complex'>\n"
     ]
    }
   ],
   "source": [
    "print('a is of '); print(type(a))\n",
    "print('z is of '); print(type(z))"
   ]
  },
  {
   "cell_type": "code",
   "execution_count": 14,
   "metadata": {},
   "outputs": [
    {
     "name": "stdout",
     "output_type": "stream",
     "text": [
      "<type 'long'>\n",
      "54689893777377377120983092848092814908102948091248091824098124098120948091284091284098120948109284091284098120948120948\n",
      "<type 'float'>\n",
      "3.1454630994\n",
      "<type 'float'>\n",
      "<type 'float'>\n",
      "<type 'int'>\n",
      "<type 'long'>\n"
     ]
    }
   ],
   "source": [
    "# Multiple Numeric Types and usage\n",
    "a = 54689893777377377120983092848092814908102948091248091824098124098120948091284091284098120948109284091284098120948120948\n",
    "print(type(a))\n",
    "print(a)\n",
    "\n",
    "b = 3.145463099399238979834758734895789347589734985789347598734895734895798347598374985734985798347598347598734895734987598347598\n",
    "print(type(b))\n",
    "print(b)\n",
    "\n",
    "c = 3.14567476\n",
    "print(type(c))\n",
    "\n",
    "d = 3.14\n",
    "print(type(d))\n",
    "\n",
    "e = 1234567891234567890\n",
    "print(type(e))\n",
    "\n",
    "f = 12345678912345678901\n",
    "print(type(f))\n"
   ]
  },
  {
   "cell_type": "code",
   "execution_count": 18,
   "metadata": {},
   "outputs": [
    {
     "name": "stdout",
     "output_type": "stream",
     "text": [
      "546898937773773771209830928480928149081029480912480918240981240981209480912840912840981209481092840912840\n",
      "<type 'long'>\n",
      "5.46898937774e+104\n",
      "<type 'float'>\n",
      "67\n"
     ]
    }
   ],
   "source": [
    "ab = 546898937773773771209830928480928149081029480912480918240981240981209480912840912840981209481092840912840\n",
    "print(ab)\n",
    "print(type(ab))\n",
    "\n",
    "af = float(ab)\n",
    "print(af)\n",
    "print(type(af))\n",
    "\n",
    "ab = 67\n",
    "print(ab)"
   ]
  },
  {
   "cell_type": "code",
   "execution_count": 15,
   "metadata": {},
   "outputs": [
    {
     "name": "stdout",
     "output_type": "stream",
     "text": [
      "<type 'float'>\n",
      "<type 'float'>\n",
      "77\n",
      "67\n",
      "67.0\n",
      "67\n"
     ]
    }
   ],
   "source": [
    "# Converting Types - Type Casting\n",
    "a = 67.9\n",
    "b = 77.4\n",
    "print(type(b))\n",
    "print(type(a))\n",
    "print(int(b))\n",
    "print(int(a))\n",
    "\n",
    "c = 67\n",
    "print(float(c))\n",
    "print(str(c))\n"
   ]
  },
  {
   "cell_type": "code",
   "execution_count": 20,
   "metadata": {},
   "outputs": [
    {
     "name": "stdout",
     "output_type": "stream",
     "text": [
      "5\n",
      "2.33333333333\n",
      "2.0\n",
      "2\n",
      "17\n",
      "64\n"
     ]
    }
   ],
   "source": [
    "# Numeric Operations\n",
    "print(17 / 3) # int / int -> int\n",
    "\n",
    "print(7 / 3.0)     # int / float -> float\n",
    "\n",
    "print(7 // 3.0)  # explicit floor division discards the fractional part\n",
    "\n",
    "print(17 % 3)  # the % operator returns the remainder of the division\n",
    "\n",
    "print(5 * 3 + 2)  # result * divisor + remainder\n",
    "\n",
    "print(4 ** 3)\n"
   ]
  },
  {
   "cell_type": "code",
   "execution_count": 22,
   "metadata": {},
   "outputs": [
    {
     "name": "stdout",
     "output_type": "stream",
     "text": [
      "(3, 4, 5, 6, 7)\n",
      "<type 'int'>\n"
     ]
    }
   ],
   "source": [
    "# Variable Assignments, multiple on one single line\n",
    "a, b,c,d,e = 3, 4,5,6,7\n",
    "print(a,b,c,d,e)\n",
    "print(type(a))\n"
   ]
  },
  {
   "cell_type": "code",
   "execution_count": 42,
   "metadata": {},
   "outputs": [
    {
     "name": "stdout",
     "output_type": "stream",
     "text": [
      "12hellostring\n"
     ]
    }
   ],
   "source": [
    "# Mixing operators between numbers and strings is not supported:\n",
    "# This will not work!\n",
    "one = 1\n",
    "two = 2\n",
    "hello = \"hello\"\n",
    "string = 'string'\n",
    "\n",
    "\n",
    "print(str(one) + str(two) + hello + string)"
   ]
  },
  {
   "cell_type": "code",
   "execution_count": 52,
   "metadata": {},
   "outputs": [
    {
     "name": "stdout",
     "output_type": "stream",
     "text": [
      "Welcome to EDUREKA\n",
      "7\n",
      "True\n",
      "True\n",
      "DU\n",
      "WelcomeWelcome\n",
      "to\n"
     ]
    }
   ],
   "source": [
    "# Strings\n",
    "String1 = 'Welcome'\n",
    "String2 = \"to\"\n",
    "String3 = \"\"\"EDUREKA\"\"\"\n",
    "\n",
    "print(String1 + \" \" + String2 + \" \" + String3 )\n",
    "print(len(String1))\n",
    "print('Wel' in String1)\n",
    "print('Wel' not in String3)\n",
    "print(String3[1:3])\n",
    "\n",
    "print(String1*2)\n"
   ]
  },
  {
   "cell_type": "code",
   "execution_count": 51,
   "metadata": {},
   "outputs": [
    {
     "name": "stdout",
     "output_type": "stream",
     "text": [
      "My name is Annie and i am here to learn pySpark. My Work Experience is 5 years. My CGPA is 78.550000\n"
     ]
    }
   ],
   "source": [
    "print(\"My name is %s and i am here to learn %s. My Work Experience is %d years. My CGPA is %f\" %(\"Annie\",\"pySpark\",5,78.55))"
   ]
  },
  {
   "cell_type": "code",
   "execution_count": 48,
   "metadata": {},
   "outputs": [
    {
     "name": "stdout",
     "output_type": "stream",
     "text": [
      "Edurekadu\n",
      "2\n"
     ]
    }
   ],
   "source": [
    "# Stirngs Continued\n",
    "s =  \"edurekadu\"\n",
    "print(s.capitalize())\n",
    "print(s.count(\"du\",0,len(s)))"
   ]
  },
  {
   "cell_type": "code",
   "execution_count": 53,
   "metadata": {},
   "outputs": [
    {
     "name": "stdout",
     "output_type": "stream",
     "text": [
      "edureka\n"
     ]
    }
   ],
   "source": [
    "# Stirngs Continued\n",
    "ls=s.encode('utf-8','strict')\n",
    "print(ls)"
   ]
  },
  {
   "cell_type": "code",
   "execution_count": 49,
   "metadata": {},
   "outputs": [
    {
     "name": "stdout",
     "output_type": "stream",
     "text": [
      "u\n",
      "a\n",
      "--ED--durekadu\n",
      "--ED--dur--ED--kadu\n",
      "EDUREKADU\n",
      "6\n"
     ]
    }
   ],
   "source": [
    "# Strings Continued\n",
    "print(max(s))\n",
    "print(min(s))\n",
    "print(s.replace('e','--ED--',1))\n",
    "print(s.replace('e','--ED--',2))\n",
    "print(s.upper())\n",
    "print(s.index('a'))"
   ]
  },
  {
   "cell_type": "code",
   "execution_count": 50,
   "metadata": {},
   "outputs": [
    {
     "name": "stdout",
     "output_type": "stream",
     "text": [
      "doG fo noitcA yreve ni seil dooG gnihtemoS\n",
      "methi\n",
      "15\n",
      "-1\n",
      "Something Good lies in every Action of God and its all about perspectives\n",
      "Something Good lies in every Action of GodSomething Good lies in every Action of God\n"
     ]
    }
   ],
   "source": [
    "# Strings Continued\n",
    "str1 = \"Something Good lies in every Action of God\"\n",
    "print(str1[::-1]) # Reverse\n",
    "print(str1[2:7])  # Slice\n",
    "print(str1.find('l')) # find a character\n",
    "print(str1.find('L')) # find a character\n",
    "str2 = \" and its all about perspectives\" \n",
    "print(str1 + str2) # Concatenation\n",
    "print(str1 * 2)"
   ]
  },
  {
   "cell_type": "code",
   "execution_count": 58,
   "metadata": {},
   "outputs": [
    {
     "name": "stdout",
     "output_type": "stream",
     "text": [
      "Finance\n"
     ]
    },
    {
     "ename": "TypeError",
     "evalue": "'tuple' object does not support item assignment",
     "output_type": "error",
     "traceback": [
      "\u001b[0;31m\u001b[0m",
      "\u001b[0;31mTypeError\u001b[0mTraceback (most recent call last)",
      "\u001b[0;32m<ipython-input-58-c5440c4c5d8b>\u001b[0m in \u001b[0;36m<module>\u001b[0;34m()\u001b[0m\n\u001b[1;32m      1\u001b[0m \u001b[0mtupleabc\u001b[0m \u001b[0;34m=\u001b[0m \u001b[0;34m(\u001b[0m\u001b[0;34m\"Engineering\"\u001b[0m\u001b[0;34m,\u001b[0m\u001b[0;34m\"Accounts\"\u001b[0m\u001b[0;34m,\u001b[0m\u001b[0;34m\"Finance\"\u001b[0m\u001b[0;34m)\u001b[0m\u001b[0;34m\u001b[0m\u001b[0m\n\u001b[1;32m      2\u001b[0m \u001b[0;32mprint\u001b[0m\u001b[0;34m(\u001b[0m\u001b[0mtupleabc\u001b[0m\u001b[0;34m[\u001b[0m\u001b[0;36m2\u001b[0m\u001b[0;34m]\u001b[0m\u001b[0;34m)\u001b[0m\u001b[0;34m\u001b[0m\u001b[0m\n\u001b[0;32m----> 3\u001b[0;31m \u001b[0mtupleabc\u001b[0m\u001b[0;34m[\u001b[0m\u001b[0;36m0\u001b[0m\u001b[0;34m]\u001b[0m \u001b[0;34m=\u001b[0m \u001b[0;34m\"Sales\"\u001b[0m\u001b[0;34m\u001b[0m\u001b[0m\n\u001b[0m",
      "\u001b[0;31mTypeError\u001b[0m: 'tuple' object does not support item assignment"
     ]
    }
   ],
   "source": [
    "tupleabc = (\"Engineering\",\"Accounts\",\"Finance\")\n",
    "print(tupleabc[2])\n",
    "# tupleabc[0] = \"Sales\""
   ]
  },
  {
   "cell_type": "code",
   "execution_count": 6,
   "metadata": {},
   "outputs": [
    {
     "name": "stdout",
     "output_type": "stream",
     "text": [
      "('Marketing', 'Sales')\n",
      "2\n",
      "Sales\n",
      "Marketing\n",
      "[1, 2, 3, 5]\n",
      "(1, 3, 2, 5)\n",
      "(5, 2, 3, 1, 5, 2, 3, 1)\n",
      "True\n",
      "(1, 3, 5, 7, 'johny', 'john')\n",
      "<type 'tuple'>\n"
     ]
    }
   ],
   "source": [
    "# tuple\n",
    "tuple1 = (\"Marketing\",\"Sales\")\n",
    "print(tuple1) \n",
    "print(len(tuple1))\n",
    "print(max(tuple1))\n",
    "print(min(tuple1))\n",
    "tup = (5,2,3,1)\n",
    "print(sorted(tup))\n",
    "print(tup[::-1])\n",
    "print(tup*2)\n",
    "print('Sales' in tuple1) # MemberShip Test\n",
    "\n",
    "tup1 = (1,3,5,7)\n",
    "tup2 = ('johny','john')\n",
    "tup3 = tup1 + tup2\n",
    "print(tup3)\n",
    "print(type(tup3))\n",
    "del(tup3)\n",
    "# print(tup3)"
   ]
  },
  {
   "cell_type": "code",
   "execution_count": 74,
   "metadata": {},
   "outputs": [
    {
     "name": "stdout",
     "output_type": "stream",
     "text": [
      "[1, 2, 'python', 'scala']\n",
      "[1, '.Net', 'python', 'scala']\n",
      "python\n"
     ]
    },
    {
     "ename": "TypeError",
     "evalue": "'tuple' object does not support item assignment",
     "output_type": "error",
     "traceback": [
      "\u001b[0;31m\u001b[0m",
      "\u001b[0;31mTypeError\u001b[0mTraceback (most recent call last)",
      "\u001b[0;32m<ipython-input-74-fbd658023bfb>\u001b[0m in \u001b[0;36m<module>\u001b[0;34m()\u001b[0m\n\u001b[1;32m      7\u001b[0m \u001b[0mtup\u001b[0m\u001b[0;34m=\u001b[0m\u001b[0;34m(\u001b[0m\u001b[0;36m1\u001b[0m\u001b[0;34m,\u001b[0m\u001b[0;36m2\u001b[0m\u001b[0;34m,\u001b[0m\u001b[0;34m'python'\u001b[0m\u001b[0;34m,\u001b[0m\u001b[0;34m'scala'\u001b[0m\u001b[0;34m)\u001b[0m\u001b[0;34m\u001b[0m\u001b[0m\n\u001b[1;32m      8\u001b[0m \u001b[0;32mprint\u001b[0m\u001b[0;34m(\u001b[0m\u001b[0mtup\u001b[0m\u001b[0;34m[\u001b[0m\u001b[0;36m2\u001b[0m\u001b[0;34m]\u001b[0m\u001b[0;34m)\u001b[0m\u001b[0;34m\u001b[0m\u001b[0m\n\u001b[0;32m----> 9\u001b[0;31m \u001b[0mtup\u001b[0m\u001b[0;34m[\u001b[0m\u001b[0;36m2\u001b[0m\u001b[0;34m]\u001b[0m \u001b[0;34m=\u001b[0m \u001b[0;34m'.Net'\u001b[0m\u001b[0;34m\u001b[0m\u001b[0m\n\u001b[0m\u001b[1;32m     10\u001b[0m \u001b[0;32mprint\u001b[0m\u001b[0;34m(\u001b[0m\u001b[0mtup\u001b[0m\u001b[0;34m)\u001b[0m\u001b[0;34m\u001b[0m\u001b[0m\n",
      "\u001b[0;31mTypeError\u001b[0m: 'tuple' object does not support item assignment"
     ]
    }
   ],
   "source": [
    "# Difference between Lists and Tuples\n",
    "list1= [1,2,'python','scala']\n",
    "print(list1)\n",
    "list1[1] = '.Net'\n",
    "print(list1)\n",
    "\n",
    "tup=(1,2,'python','scala')\n",
    "print(tup[2])\n",
    "tup[2] = '.Net'\n",
    "print(tup)"
   ]
  },
  {
   "cell_type": "code",
   "execution_count": 83,
   "metadata": {},
   "outputs": [
    {
     "name": "stdout",
     "output_type": "stream",
     "text": [
      "([1, 2, 3, 5, 6], ['C #', 'python', 'scala'])\n",
      "[1, 2, 3, 5, 6]\n",
      "1\n",
      "([100, 2, 3, 5, 6], ['C #', 'python', 'scala'])\n",
      "[6, 5, 3, 2, 100]\n",
      "[3, 6]\n"
     ]
    },
    {
     "ename": "TypeError",
     "evalue": "'tuple' object doesn't support item deletion",
     "output_type": "error",
     "traceback": [
      "\u001b[0;31m\u001b[0m",
      "\u001b[0;31mTypeError\u001b[0mTraceback (most recent call last)",
      "\u001b[0;32m<ipython-input-83-72528fc9ca67>\u001b[0m in \u001b[0;36m<module>\u001b[0;34m()\u001b[0m\n\u001b[1;32m      9\u001b[0m \u001b[0;32mprint\u001b[0m\u001b[0;34m(\u001b[0m\u001b[0mtup\u001b[0m\u001b[0;34m[\u001b[0m\u001b[0;36m0\u001b[0m\u001b[0;34m]\u001b[0m\u001b[0;34m[\u001b[0m\u001b[0;36m2\u001b[0m\u001b[0;34m:\u001b[0m\u001b[0;34m:\u001b[0m\u001b[0;36m2\u001b[0m\u001b[0;34m]\u001b[0m\u001b[0;34m)\u001b[0m \u001b[0;31m# Slicing\u001b[0m\u001b[0;34m\u001b[0m\u001b[0m\n\u001b[1;32m     10\u001b[0m \u001b[0;32mdel\u001b[0m\u001b[0;34m(\u001b[0m\u001b[0mtup\u001b[0m\u001b[0;34m[\u001b[0m\u001b[0;36m1\u001b[0m\u001b[0;34m]\u001b[0m\u001b[0;34m[\u001b[0m\u001b[0;36m2\u001b[0m\u001b[0;34m]\u001b[0m\u001b[0;34m)\u001b[0m \u001b[0;31m# Deleting an element\u001b[0m\u001b[0;34m\u001b[0m\u001b[0m\n\u001b[0;32m---> 11\u001b[0;31m \u001b[0;32mdel\u001b[0m\u001b[0;34m(\u001b[0m\u001b[0mtup\u001b[0m\u001b[0;34m[\u001b[0m\u001b[0;36m1\u001b[0m\u001b[0;34m]\u001b[0m\u001b[0;34m)\u001b[0m\u001b[0;34m\u001b[0m\u001b[0m\n\u001b[0m\u001b[1;32m     12\u001b[0m \u001b[0;32mprint\u001b[0m\u001b[0;34m(\u001b[0m\u001b[0mtup\u001b[0m\u001b[0;34m)\u001b[0m\u001b[0;34m\u001b[0m\u001b[0m\n",
      "\u001b[0;31mTypeError\u001b[0m: 'tuple' object doesn't support item deletion"
     ]
    }
   ],
   "source": [
    "# A list inside a Tuple\n",
    "tup=([1,2,3,5,6],['C #','python','scala'])\n",
    "print(tup)\n",
    "print(tup[0])\n",
    "print(tup[0][0]) # Accessing inner List\n",
    "tup[0][0] = 100 # Updating a Tuple via list, work around\n",
    "print(tup)\n",
    "print(tup[0][::-1]) # Reversing inner List\n",
    "print(tup[0][2::2]) # Slicing\n",
    "del(tup[1][2]) # Deleting an element\n",
    "del(tup[1])\n",
    "print(tup)"
   ]
  },
  {
   "cell_type": "code",
   "execution_count": 102,
   "metadata": {},
   "outputs": [
    {
     "name": "stdout",
     "output_type": "stream",
     "text": [
      "[3, 6]\n",
      "[56, 78]\n",
      "[78]\n",
      "[78, 100, 200, 400]\n",
      "[78, 110, 400]\n",
      "scala\n",
      "1\n"
     ]
    }
   ],
   "source": [
    "tup=([1,2,3,5,6],['C #','python','scala'])\n",
    "print(tup[0][2::2])\n",
    "\n",
    "list1 = [34,56,78,99,100,110,200,300,400]\n",
    "print(list1[1:3])\n",
    "print(list1[2:3])\n",
    "print(list1[2::2])\n",
    "print(list1[2::3])\n",
    "# tup[0][0][1][0]\n",
    "\n",
    "print(tup[1][2])\n",
    "print(tup[-2][-5])\n"
   ]
  },
  {
   "cell_type": "code",
   "execution_count": 106,
   "metadata": {},
   "outputs": [
    {
     "name": "stdout",
     "output_type": "stream",
     "text": [
      "([1, 2, 3, 5, 6], ['C #', 'python', 'scala'])\n",
      "2\n"
     ]
    },
    {
     "ename": "TypeError",
     "evalue": "'tuple' object does not support item assignment",
     "output_type": "error",
     "traceback": [
      "\u001b[0;31m\u001b[0m",
      "\u001b[0;31mTypeError\u001b[0mTraceback (most recent call last)",
      "\u001b[0;32m<ipython-input-106-ece6f45f2756>\u001b[0m in \u001b[0;36m<module>\u001b[0;34m()\u001b[0m\n\u001b[1;32m      5\u001b[0m \u001b[0mtup25\u001b[0m\u001b[0;34m=\u001b[0m\u001b[0;34m(\u001b[0m\u001b[0;34m[\u001b[0m\u001b[0;36m1\u001b[0m\u001b[0;34m,\u001b[0m\u001b[0;36m2\u001b[0m\u001b[0;34m,\u001b[0m\u001b[0;36m3\u001b[0m\u001b[0;34m,\u001b[0m\u001b[0;36m5\u001b[0m\u001b[0;34m,\u001b[0m\u001b[0;36m6\u001b[0m\u001b[0;34m]\u001b[0m\u001b[0;34m,\u001b[0m\u001b[0;34m(\u001b[0m\u001b[0;34m'C #'\u001b[0m\u001b[0;34m,\u001b[0m\u001b[0;34m'python'\u001b[0m\u001b[0;34m,\u001b[0m\u001b[0;34m'scala'\u001b[0m\u001b[0;34m)\u001b[0m\u001b[0;34m)\u001b[0m\u001b[0;34m\u001b[0m\u001b[0m\n\u001b[1;32m      6\u001b[0m \u001b[0;32mprint\u001b[0m\u001b[0;34m(\u001b[0m\u001b[0mtup25\u001b[0m\u001b[0;34m[\u001b[0m\u001b[0;36m0\u001b[0m\u001b[0;34m]\u001b[0m\u001b[0;34m[\u001b[0m\u001b[0;36m1\u001b[0m\u001b[0;34m]\u001b[0m\u001b[0;34m)\u001b[0m\u001b[0;34m\u001b[0m\u001b[0m\n\u001b[0;32m----> 7\u001b[0;31m \u001b[0mtup25\u001b[0m\u001b[0;34m[\u001b[0m\u001b[0;36m1\u001b[0m\u001b[0;34m]\u001b[0m\u001b[0;34m[\u001b[0m\u001b[0;36m1\u001b[0m\u001b[0;34m]\u001b[0m \u001b[0;34m=\u001b[0m \u001b[0;36m45\u001b[0m\u001b[0;34m\u001b[0m\u001b[0m\n\u001b[0m",
      "\u001b[0;31mTypeError\u001b[0m: 'tuple' object does not support item assignment"
     ]
    }
   ],
   "source": [
    "# Converting a Tuple into Lists\n",
    "print(tup)\n",
    "tuplist = list(tup)\n",
    "\n",
    "tup25=([1,2,3,5,6],('C #','python','scala'))\n",
    "print(tup25[0][1])\n",
    "tup25[1][1] = 45"
   ]
  },
  {
   "cell_type": "code",
   "execution_count": 134,
   "metadata": {},
   "outputs": [
    {
     "name": "stdout",
     "output_type": "stream",
     "text": [
      "[1, 2, 3, 4, 5]\n",
      "(1, 2, 3, 4, 5)\n"
     ]
    }
   ],
   "source": [
    "tupnew = (1,2,3,4,5)\n",
    "# listnew = list(tup)\n",
    "list1 = [1,2,3,4,5]\n",
    "print(list1)\n",
    "print(tuple(list1))"
   ]
  },
  {
   "cell_type": "code",
   "execution_count": 111,
   "metadata": {},
   "outputs": [
    {
     "name": "stdout",
     "output_type": "stream",
     "text": [
      "Apple\n",
      "['Apple', 'Orange']\n",
      "Banana\n",
      "Banana\n",
      "['Apple', 'Orange']\n",
      "4\n",
      "[1, 2, 3, 5, 6, 'b', 'c', 'd']\n",
      "<type 'list'>\n",
      "1\n",
      "[1, 4, 9, 16, 25, 36]\n"
     ]
    }
   ],
   "source": [
    "# List\n",
    "list2 = [\"Apple\",\"Orange\",\"Banana\"]\n",
    "print(list2[0])\n",
    "print(list2[0:2])\n",
    "print(list2[-1]) #last element in a list is always at -1 index\n",
    "print(list2[2])\n",
    "del(list2[-1])\n",
    "print(list2)\n",
    "list3=[1,2,3,4,5,6,'a','b','c','d']\n",
    "print(list3.pop(3)) # popping an element at an index\n",
    "list3.remove('a')\n",
    "print(list3)\n",
    "print(type(list3))\n",
    "list4 = [x **2 for x in [1,2,3,4,5,6]]\n",
    "print(list4[0])\n",
    "print([x **2 for x in [1,2,3,4,5,6]])"
   ]
  },
  {
   "cell_type": "code",
   "execution_count": 112,
   "metadata": {},
   "outputs": [
    {
     "name": "stdout",
     "output_type": "stream",
     "text": [
      "[1, 2, 3, 'machine Learning']\n",
      "[1, 2, 3, 'machine Learning', 'g', 'h']\n",
      "[1, 'New Letter', 2, 3, 'machine Learning', 'g', 'h']\n",
      "['h', 'g', 'machine Learning', 3, 2, 'New Letter', 1]\n"
     ]
    }
   ],
   "source": [
    "# List Built in functions\n",
    "list5 = [1,2,3]\n",
    "list5.append(\"machine Learning\") # adding an element at the end of existing list\n",
    "print(list5)\n",
    "list5.extend(['g','h']) # adding multiple elements in the list\n",
    "print(list5)\n",
    "list5.insert(1,\"New Letter\")\n",
    "print(list5)\n",
    "print(list5[::-1])"
   ]
  },
  {
   "cell_type": "code",
   "execution_count": 201,
   "metadata": {
    "scrolled": true
   },
   "outputs": [
    {
     "name": "stdout",
     "output_type": "stream",
     "text": [
      "{1: 'Python', 2: 'Scala', 3: 'Java'}\n",
      "Python\n",
      "{1: 'C #', 2: 'Scala', 3: 'Java'}\n",
      "{1: 'C #', 3: 'Java'}\n",
      "{1: 'C #', 3: 'Java'}\n",
      "<type 'dict'>\n",
      "{'last': 'Marley', 'first': 'Bob'}\n",
      "['dev', 'mgr']\n",
      "Marley\n",
      "dev\n",
      "{'age': 40.75, 'jobs': ['SR Manager'], 'name': {'last': 'Marley', 'first': 'Bob'}}\n",
      "['age', 'jobs', 'name']\n",
      "[40.75, ['SR Manager'], {'last': 'Marley', 'first': 'Bob'}]\n",
      "4\n",
      "{1: 4, 'age': 40.75, 'jobs': ['SR Manager'], 'name': {'last': 'Marley', 'first': 'Bob'}}\n",
      "{1: 'C #', 3: 'Java'}\n",
      "{1: 'C #', 3: 'Java'}\n",
      "{}\n",
      "(1, '=>', 4)\n",
      "('age', '=>', 40.75)\n",
      "('jobs', '=>', ['SR Manager'])\n",
      "('name', '=>', {'last': 'Marley', 'first': 'Bob'})\n"
     ]
    }
   ],
   "source": [
    "# Dictionaries\n",
    "dict={1:\"Python\",2:\"Scala\",3:\"Java\"}\n",
    "print(dict)\n",
    "print(dict[1])\n",
    "dict[1] = \"C #\"\n",
    "print(dict)\n",
    "del(dict[2])\n",
    "print(dict)\n",
    "len(dict)\n",
    "print(str(dict))\n",
    "print(type(dict))\n",
    "\n",
    "# multi dimensional dictionary\n",
    "rec = {'name': {'first':'Bob','last':'Marley'}, 'jobs': ['dev','mgr'],'age':40.75}\n",
    "print(rec.get('name'))\n",
    "print(rec.get('jobs'))\n",
    "print(rec['name']['last'])\n",
    "print(rec['jobs'][0])\n",
    "rec['jobs'] = ['SR Manager'] # Update\n",
    "print(rec)\n",
    "\n",
    "# more funcs\n",
    "rec.items() # returns a list\n",
    "print(rec.keys()) # returns all keys\n",
    "print(rec.values()) # returns all values\n",
    "print(rec.setdefault(1,4)) # sets default value if key isnt in dictionary already \n",
    "print(rec)\n",
    "dict1 = dict.copy() # copy dictionary\n",
    "print(dict)\n",
    "print(dict1) \n",
    "dict1.clear() # Clear the dictionary\n",
    "print(dict1)\n",
    "for key in rec: \n",
    "    print(key,'=>',rec[key])"
   ]
  },
  {
   "cell_type": "code",
   "execution_count": 140,
   "metadata": {},
   "outputs": [
    {
     "name": "stdout",
     "output_type": "stream",
     "text": [
      "{'P': 'Physics', 'C': 'Chemistry', 'B': 'Bio'}\n",
      "{'P': 'Physics', 'C': 'Chemical Engineering', 'B': 'Bio'}\n",
      "('hockey', 'badminton', 'badminton')\n",
      "{'age': 40.75, 'jobs': ['dev', 'mgr'], 'name': {'last': 'Marley', 'first': 'Bob'}, 'hobbies': ('hockey', 'badminton', 'badminton')}\n",
      "{'last': 'Marley', 'first': 'Bob'}\n",
      "{}\n"
     ]
    }
   ],
   "source": [
    "dict1 = {'B': 'Bio','C':'Chemistry','P':'Physics'}\n",
    "print(dict1)\n",
    "dict1['C'] = 'Chemical Engineering'\n",
    "print(dict1)\n",
    "len(dict1)\n",
    "str(dict1)\n",
    "list(dict1)\n",
    "tuple(dict1)\n",
    "# multi dimensional dictionary\n",
    "rec = {'name': {'first':'Bob','last':'Marley'}, 'jobs': ['dev','mgr'],'age':40.75}\n",
    "rec['name']['first']\n",
    "rec['jobs'][1]\n",
    "rec['age']\n",
    "rec.get('name')\n",
    "rectup = {'name': {'first':'Bob','last':'Marley'}, 'jobs': ['dev','mgr'],'age':40.75, 'hobbies': ('cricket','football'),'hobbies':('hockey','badminton','badminton')}\n",
    "print(rectup['hobbies'])\n",
    "print(rectup)\n",
    "rec.items() \n",
    "print(rectup.setdefault('name','default'))\n",
    "rectup.clear()\n",
    "print(rectup)"
   ]
  },
  {
   "cell_type": "code",
   "execution_count": 206,
   "metadata": {},
   "outputs": [
    {
     "name": "stdout",
     "output_type": "stream",
     "text": [
      "{1: ('python', 'java'), 2: (1, 3, 5, 7)}\n",
      "python\n",
      "{1: ['python', 'java'], 2: [9, 6, 5, 7]}\n",
      "python\n"
     ]
    }
   ],
   "source": [
    "# tuple in dictionary\n",
    "dicttup={1:('python','java'),2:(1,3,5,7)}\n",
    "print(dicttup)\n",
    "print(dicttup[1][0])\n",
    "\n",
    "#list in dictionary\n",
    "dictlist={1:['python','java'],2:[9,6,5,7]}\n",
    "print(dictlist)\n",
    "print(dictlist[1][0])"
   ]
  },
  {
   "cell_type": "code",
   "execution_count": 230,
   "metadata": {},
   "outputs": [
    {
     "name": "stdout",
     "output_type": "stream",
     "text": [
      "set(['c', 'e', 'm', 'l', 'o', 'W'])\n",
      "set([1, 2, 3, 4, 5, 6, 7, 8, 9, 10, 'm', 'c', 'o', 'l', 'W', 'e'])\n",
      "set([1, 2, 3, 5])\n",
      "set([4])\n",
      "set([8, 9, 10, 6, 7])\n",
      "True\n",
      "True\n",
      "False\n",
      "True\n",
      "set([1, 2, 3, 4, 5])\n",
      "set([1, 2, 3, 4, 5, 6, 7, 8, 9, 10])\n"
     ]
    }
   ],
   "source": [
    "# Sets - unique collection of items\n",
    "set1 = set('Welcome')\n",
    "print(set1)\n",
    "A = {1,2,3,4,5}\n",
    "B = {6,7,8,9,10,1,2,3,5}\n",
    "C = A | B | set1 # Union\n",
    "print(C)\n",
    "print(A & B) # Intersection\n",
    "print(A - B) # Difference\n",
    "print(B - A) # Difference\n",
    "print(1 in C) # Membership Test\n",
    "print(set1.issubset(C)) # Membership test\n",
    "print(C.issubset(set1)) # Membership test\n",
    "print(C.issuperset(set1)) #Superset test\n",
    "D = {1,2,3,4,5,1,2,3,4,5}\n",
    "print(D)\n",
    "print(set1.symmetric_difference(C))"
   ]
  },
  {
   "cell_type": "code",
   "execution_count": 32,
   "metadata": {},
   "outputs": [
    {
     "name": "stdout",
     "output_type": "stream",
     "text": [
      "set([7, 16, 81, 9])\n",
      "set([7, 16, 81, 9])\n",
      "set(['4,45,55', 66, '1,2,3'])\n"
     ]
    }
   ],
   "source": [
    "pass_maths = {11,21,31,41,51}\n",
    "pass_english = {11,21,31,41,51,16,7,81,9}\n",
    "print(pass_maths.symmetric_difference(pass_english))\n",
    "print(pass_maths.symmetric_difference(pass_english))\n",
    "set1 = {\"1,2,3\",\"4,45,55\",66,66}\n",
    "print(set1)\n",
    "pass_result= pass_maths.symmetric_difference(pass_english))\n",
    "set3 = {11,22,33,44}"
   ]
  },
  {
   "cell_type": "code",
   "execution_count": 16,
   "metadata": {},
   "outputs": [
    {
     "name": "stdout",
     "output_type": "stream",
     "text": [
      "set(['a', 1, 2, 3, 4, 5, 'b', 345])\n",
      "set(['a', 2, 3, 4, 5, 'b', 345])\n",
      "set(['a', 3, 4, 5, 'b', 345])\n",
      "a\n",
      "set([3, 4, 5, 'b', 345])\n",
      "set([4, 5, 'b', 345])\n",
      "set([])\n"
     ]
    }
   ],
   "source": [
    "#Sets continued:\n",
    "s = {1,2,3,4,5,'a','b'}\n",
    "s.add(345)\n",
    "print(s)\n",
    "s.remove(1)\n",
    "# s.remove(55)\n",
    "print(s)\n",
    "s.discard(55)\n",
    "s.discard(2)\n",
    "print(s)\n",
    "dp = s.pop()\n",
    "print(dp)\n",
    "print(s)\n",
    "s.pop()\n",
    "print(s)\n",
    "s.clear()\n",
    "print(s)"
   ]
  },
  {
   "cell_type": "code",
   "execution_count": 13,
   "metadata": {},
   "outputs": [
    {
     "name": "stdout",
     "output_type": "stream",
     "text": [
      "set([1, 2, 3, 4, 5, 6, 7])\n",
      "set([2, 3, 4, 5])\n",
      "set([1, 6])\n",
      "True\n",
      "False\n",
      "True\n",
      "False\n"
     ]
    }
   ],
   "source": [
    "# sets continued\n",
    "set1 = {1,2,3,4,5,6}\n",
    "set2 = {2,3,4,5,7}\n",
    "print(set1 | set2) # Union\n",
    "print(set1 & set2) # Intersection\n",
    "print(set1 - set2) # Difference\n",
    "\n",
    "print(1 in set1) # Membership test\n",
    "print(set1.issubset(set2)) # subset\n",
    "print(51 not in set2)\n",
    "\n",
    "print(set1.issuperset(set2))"
   ]
  },
  {
   "cell_type": "code",
   "execution_count": 36,
   "metadata": {},
   "outputs": [
    {
     "name": "stdout",
     "output_type": "stream",
     "text": [
      "False\n",
      "True\n",
      "False\n",
      "True\n"
     ]
    }
   ],
   "source": [
    "# python logical operators\n",
    "x = True\n",
    "y = False\n",
    "print(x and y) # And\n",
    "print(x or y) # or\n",
    "print(not x)\n",
    "print(not y)"
   ]
  },
  {
   "cell_type": "code",
   "execution_count": 260,
   "metadata": {},
   "outputs": [
    {
     "name": "stdout",
     "output_type": "stream",
     "text": [
      "0\n",
      "14\n",
      "14\n",
      "-11\n",
      "2\n"
     ]
    }
   ],
   "source": [
    "# python binary (bit-wise) operators\n",
    "a = 10 # (0000 1010 in binary)\n",
    "b = 4 # (0000 0100 in binary)\n",
    "print(a & b) # 0 is (0000 0000) in binary\n",
    "print(a | b) # 14 (0000 1110) \n",
    "print(a ^ b) # 14 (0000 1110))\n",
    "print(~ a)\n",
    "print(a >> 2) # bitwise right shift\n",
    "print(a << 2) # bitwise left shift"
   ]
  },
  {
   "cell_type": "code",
   "execution_count": 38,
   "metadata": {},
   "outputs": [
    {
     "name": "stdout",
     "output_type": "stream",
     "text": [
      "y is greater than x\n"
     ]
    }
   ],
   "source": [
    "# Conditional Operators\n",
    "'''\n",
    "if, elif, else\n",
    "'''\n",
    "x = 10\n",
    "y = 40\n",
    "if(x > y):\n",
    "    print('x is greater than y')\n",
    "elif (y > x):\n",
    "    print('y is greater than x')\n",
    "else:\n",
    "    print('x and y are equal')\n",
    "    "
   ]
  },
  {
   "cell_type": "code",
   "execution_count": 39,
   "metadata": {},
   "outputs": [
    {
     "name": "stdout",
     "output_type": "stream",
     "text": [
      "iteration 0\n",
      "iteration 1\n",
      "iteration 2\n",
      "iteration 3\n",
      "iteration 4\n",
      "Good Bye\n"
     ]
    }
   ],
   "source": [
    "# While\n",
    "counter=0\n",
    "while(counter<5):\n",
    "    print('iteration ' + str(counter))\n",
    "    counter += 1\n",
    "\n",
    "print(\"Good Bye\")"
   ]
  },
  {
   "cell_type": "code",
   "execution_count": 26,
   "metadata": {},
   "outputs": [
    {
     "name": "stdout",
     "output_type": "stream",
     "text": [
      "iteration 0\n",
      "iteration 1\n",
      "iteration 2\n",
      "iteration 3\n",
      "iteration 4\n",
      "Good Bye\n",
      "Index within range: banana\n",
      "Index within range: apple\n",
      "Index within range: orange\n"
     ]
    }
   ],
   "source": [
    "# Types of Loops\n",
    "'''\n",
    "for, while, do while\n",
    "'''\n",
    "# While\n",
    "counter=0\n",
    "while(counter<5):\n",
    "    print('iteration ' + str(counter))\n",
    "    counter += 1\n",
    "\n",
    "print(\"Good Bye\")\n",
    "\n",
    "# for\n",
    "fruits=('banana','apple','orange')\n",
    "for index in range(len(fruits)):\n",
    "    print('Index within range: ' + str(fruits[index]))\n",
    "\n",
    "    "
   ]
  },
  {
   "cell_type": "code",
   "execution_count": 40,
   "metadata": {},
   "outputs": [
    {
     "name": "stdout",
     "output_type": "stream",
     "text": [
      "Index within range: banana\n",
      "Index within range: apple\n",
      "Index within range: orange\n"
     ]
    }
   ],
   "source": [
    "# for\n",
    "fruits=('banana','apple','orange')\n",
    "for index in range(len(fruits)):\n",
    "    print('Index within range: ' + str(fruits[index]))"
   ]
  },
  {
   "cell_type": "code",
   "execution_count": 42,
   "metadata": {
    "scrolled": true
   },
   "outputs": [
    {
     "name": "stdout",
     "output_type": "stream",
     "text": [
      "\n",
      "1\n",
      "22\n",
      "333\n",
      "4444\n",
      "55555\n",
      "666666\n",
      "7777777\n",
      "88888888\n",
      "999999999\n",
      "45\n"
     ]
    }
   ],
   "source": [
    "# Types of loops continued\n",
    "'''\n",
    "Nested Loops\n",
    "'''\n",
    "count=0\n",
    "for i in range(10):\n",
    "    print(str(i)*i)\n",
    "    \n",
    "    for j in range(0,i):\n",
    "        count += 1\n",
    "\n",
    "print(count)"
   ]
  },
  {
   "cell_type": "code",
   "execution_count": 44,
   "metadata": {},
   "outputs": [
    {
     "name": "stdout",
     "output_type": "stream",
     "text": [
      "10\n",
      "11\n",
      "12\n",
      "13\n",
      "14\n",
      "15\n",
      "16\n",
      "17\n",
      "18\n",
      "19\n",
      "20\n",
      "21\n",
      "22\n",
      "23\n",
      "24\n",
      "25\n",
      "26\n",
      "27\n",
      "28\n",
      "29\n",
      "30\n"
     ]
    }
   ],
   "source": [
    "# Loop Control Statements\n",
    "'''\n",
    "break\n",
    "'''\n",
    "for i in range(10,50):\n",
    "    print(i)\n",
    "    if(i==30):\n",
    "        break"
   ]
  },
  {
   "cell_type": "code",
   "execution_count": 50,
   "metadata": {},
   "outputs": [
    {
     "name": "stdout",
     "output_type": "stream",
     "text": [
      "1\n",
      "An Idea!!!!\n",
      "2\n",
      "An Idea!!!!\n",
      "3\n",
      "An Idea!!!!\n",
      "4\n",
      "An Idea!!!!\n",
      "5\n",
      "An Idea!!!!\n",
      "6\n",
      "An Idea!!!!\n",
      "7\n",
      "8\n",
      "An Idea!!!!\n",
      "9\n",
      "An Idea!!!!\n",
      "10\n",
      "An Idea!!!!\n"
     ]
    }
   ],
   "source": [
    "# Continue\n",
    "for j in range(1,11):\n",
    "    print(j)\n",
    "    if (j == 7):\n",
    "        continue\n",
    "    print('An Idea!!!!')\n"
   ]
  },
  {
   "cell_type": "code",
   "execution_count": 51,
   "metadata": {},
   "outputs": [],
   "source": [
    "# pass\n",
    "for k in range(1,3):\n",
    "    pass\n",
    "#    print('Good Bye ' + str(k))"
   ]
  },
  {
   "cell_type": "code",
   "execution_count": 57,
   "metadata": {},
   "outputs": [
    {
     "name": "stdout",
     "output_type": "stream",
     "text": [
      "Enter your Age please45\n",
      "<type 'int'>\n",
      "Your age is 45\n",
      "Congratulations, you can vote...\n"
     ]
    }
   ],
   "source": [
    "# Giving inputs to the program\n",
    "Age=input(\"Enter your Age please\")\n",
    "print(type(Age))\n",
    "print(\"Your age is \" + str(Age))\n",
    "if Age < 18:\n",
    "    print(\"You are not allowed to vote\")\n",
    "elif Age > 18:\n",
    "    print(\"Congratulations, you can vote...\")\n",
    "else:\n",
    "    print(\"Hey, you've just reached 18, elections are yours now...'\")"
   ]
  },
  {
   "cell_type": "code",
   "execution_count": 64,
   "metadata": {},
   "outputs": [
    {
     "name": "stdout",
     "output_type": "stream",
     "text": [
      "This is a new line # 1\r\n",
      "This is a new line # 2\r\n",
      "This is a new line # 3\r\n",
      "This is A VERY new line # 1\r\n",
      "This is A VERY new line # 2\r\n",
      "This is A VERY new line # 3\r\n",
      "\n"
     ]
    }
   ],
   "source": [
    "# read\n",
    "file_obj=open(\"/mnt/home/edureka_250203/sample1.txt\",\"r\")\n",
    "\n",
    "if file_obj.mode==\"r\":\n",
    "    read_fileobj= file_obj.read()\n",
    "    print(read_fileobj)\n",
    "\n",
    "elif file_obj.mode==\"w+\":\n",
    "    print(\"reading before writing\")\n",
    "    read_fileobj= file_obj.read()\n",
    "    print(read_fileobj)\n",
    "\n",
    "    for i in range(3):\n",
    "        file_obj.write(\"This is a new line # %d\\r\\n\" % (i + 1))\n",
    "    \n",
    "#    print(\"reading after writing\")\n",
    "\n",
    "elif file_obj.mode==\"a+\":\n",
    "    for i in range(3):\n",
    "        file_obj.write(\"This is A VERY new line # %d\\r\\n\" % (i + 1))\n",
    "    \n",
    "else:\n",
    "    print(\"pass\")\n",
    "\n",
    "file_obj.close()\n",
    "# write\n"
   ]
  },
  {
   "cell_type": "code",
   "execution_count": 65,
   "metadata": {
    "collapsed": true
   },
   "outputs": [],
   "source": [
    "os.rename(\"/mnt/home/edureka_250203/sample11.txt\",\"/mnt/home/edureka_250203/sample12.txt\")"
   ]
  },
  {
   "cell_type": "code",
   "execution_count": 67,
   "metadata": {},
   "outputs": [],
   "source": [
    "os.remove(\"/mnt/home/edureka_250203/sample12.txt\")"
   ]
  },
  {
   "cell_type": "code",
   "execution_count": null,
   "metadata": {
    "collapsed": true
   },
   "outputs": [],
   "source": []
  }
 ],
 "metadata": {
  "kernelspec": {
   "display_name": "PySpark",
   "language": "python",
   "name": "pyspark"
  },
  "language_info": {
   "codemirror_mode": {
    "name": "ipython",
    "version": 2
   },
   "file_extension": ".py",
   "mimetype": "text/x-python",
   "name": "python",
   "nbconvert_exporter": "python",
   "pygments_lexer": "ipython2",
   "version": "2.7.14"
  }
 },
 "nbformat": 4,
 "nbformat_minor": 2
}
